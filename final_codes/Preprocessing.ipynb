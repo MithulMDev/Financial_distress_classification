{
 "cells": [
  {
   "cell_type": "markdown",
   "metadata": {},
   "source": [
    "Steps and methods covered in this notebook\n",
    "- Read the main dataset\n",
    "- Drop the unnecessary columns\n",
    "- Drop the rows having more than 2 null values in the remaining columns\n",
    "</n>\n",
    "- Implement the MICE and Autoencoders imputation\n",
    "- Then use Cluster-based SMOTE (KMeans SMOTE) for both the Mice and AE datasets\n",
    "</n>\n",
    "- Before last step - group the columns under thier headers\n",
    "- As a last step implement PCA for both the datasets and save the datasets as excel files separately\n",
    "\n",
    "\n",
    "(Refer the Preprocessing_PCA_SMOTE.ipynb for the lines of code)"
   ]
  },
  {
   "cell_type": "markdown",
   "metadata": {},
   "source": []
  }
 ],
 "metadata": {
  "language_info": {
   "name": "python"
  }
 },
 "nbformat": 4,
 "nbformat_minor": 2
}
