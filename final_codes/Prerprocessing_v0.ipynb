{
 "cells": [
  {
   "cell_type": "markdown",
   "metadata": {},
   "source": [
    "- Function to process Mice\n",
    "- Function to perform AE\n",
    "- Function to perform Kmeans SMOTE\n",
    "- Function to perform all the EDA\n",
    "  - Isolation forest\n",
    "  - Z score\n",
    "  - Non linear relationships\n",
    "- Function to perform PCA\n",
    "\n",
    "    The above all comes under the main function\n",
    "\n",
    "    \n",
    "- Function to give out Plots and other EDA after the PCA is done. It gets the PCA dataset as the input"
   ]
  }
 ],
 "metadata": {
  "language_info": {
   "name": "python"
  }
 },
 "nbformat": 4,
 "nbformat_minor": 2
}
