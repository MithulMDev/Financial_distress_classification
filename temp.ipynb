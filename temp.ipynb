{
 "cells": [
  {
   "cell_type": "code",
   "execution_count": 2,
   "metadata": {},
   "outputs": [],
   "source": [
    "import pandas as pd"
   ]
  },
  {
   "cell_type": "code",
   "execution_count": 3,
   "metadata": {},
   "outputs": [],
   "source": [
    "df_mice = pd.read_excel(\"C:\\\\Users\\\\dev\\\\Desktop\\\\Msc thesis Prior RS\\\\ML training\\\\df_mice_labeled_after_PCA.xlsx\")\n",
    "df_AE = pd.read_excel(\"C:\\\\Users\\\\dev\\\\Desktop\\\\Msc thesis Prior RS\\\\ML training\\\\df_autoencoder_labeled_after_PCA.xlsx\")"
   ]
  },
  {
   "cell_type": "code",
   "execution_count": 4,
   "metadata": {},
   "outputs": [
    {
     "name": "stdout",
     "output_type": "stream",
     "text": [
      "<class 'pandas.core.frame.DataFrame'>\n",
      "RangeIndex: 20125 entries, 0 to 20124\n",
      "Data columns (total 18 columns):\n",
      " #   Column                             Non-Null Count  Dtype  \n",
      "---  ------                             --------------  -----  \n",
      " 0   Unnamed: 0                         20125 non-null  int64  \n",
      " 1   Liquidity_and_Coverage_Ratios_PC1  20125 non-null  float64\n",
      " 2   Liquidity_and_Coverage_Ratios_PC2  20125 non-null  float64\n",
      " 3   Leverage_Ratios_PC1                20125 non-null  float64\n",
      " 4   Leverage_Ratios_PC2                20125 non-null  float64\n",
      " 5   Activity_Ratios_PC1                20125 non-null  float64\n",
      " 6   Activity_Ratios_PC2                20125 non-null  float64\n",
      " 7   Profitability_Ratios_PC1           20125 non-null  float64\n",
      " 8   Profitability_Ratios_PC2           20125 non-null  float64\n",
      " 9   Cost_and_Expense_Ratios_PC1        20125 non-null  float64\n",
      " 10  Cost_and_Expense_Ratios_PC2        20125 non-null  float64\n",
      " 11  Cash_Flow_Ratios_PC1               20125 non-null  float64\n",
      " 12  Cash_Flow_Ratios_PC2               20125 non-null  float64\n",
      " 13  Growth_Ratios_PC1                  20125 non-null  float64\n",
      " 14  Growth_Ratios_PC2                  20125 non-null  float64\n",
      " 15  Per_Share_Ratios_PC1               20125 non-null  float64\n",
      " 16  Per_Share_Ratios_PC2               20125 non-null  float64\n",
      " 17  LABEL                              20125 non-null  int64  \n",
      "dtypes: float64(16), int64(2)\n",
      "memory usage: 2.8 MB\n"
     ]
    }
   ],
   "source": [
    "df_mice.head()\n",
    "df_mice.info()\n"
   ]
  },
  {
   "cell_type": "code",
   "execution_count": 9,
   "metadata": {},
   "outputs": [],
   "source": [
    "# Drop columns with blank column names\n",
    "df = pd.read_excel(\"C:\\\\Users\\\\dev\\\\Desktop\\\\MSC thesis\\\\Code\\\\final_codes\\\\KMSMOTE_MICE_3_PCA.xlsx\")\n",
    "df = df.loc[:, df.columns.str.strip().astype(bool)]"
   ]
  },
  {
   "cell_type": "code",
   "execution_count": 10,
   "metadata": {},
   "outputs": [
    {
     "name": "stdout",
     "output_type": "stream",
     "text": [
      "<class 'pandas.core.frame.DataFrame'>\n",
      "RangeIndex: 20125 entries, 0 to 20124\n",
      "Data columns (total 17 columns):\n",
      " #   Column                             Non-Null Count  Dtype  \n",
      "---  ------                             --------------  -----  \n",
      " 0   Liquidity_and_Coverage_Ratios_PC1  20125 non-null  float64\n",
      " 1   Liquidity_and_Coverage_Ratios_PC2  20125 non-null  float64\n",
      " 2   Leverage_Ratios_PC1                20125 non-null  float64\n",
      " 3   Leverage_Ratios_PC2                20125 non-null  float64\n",
      " 4   Activity_Ratios_PC1                20125 non-null  float64\n",
      " 5   Activity_Ratios_PC2                20125 non-null  float64\n",
      " 6   Profitability_Ratios_PC1           20125 non-null  float64\n",
      " 7   Profitability_Ratios_PC2           20125 non-null  float64\n",
      " 8   Cost_and_Expense_Ratios_PC1        20125 non-null  float64\n",
      " 9   Cost_and_Expense_Ratios_PC2        20125 non-null  float64\n",
      " 10  Cash_Flow_Ratios_PC1               20125 non-null  float64\n",
      " 11  Cash_Flow_Ratios_PC2               20125 non-null  float64\n",
      " 12  Growth_Ratios_PC1                  20125 non-null  float64\n",
      " 13  Growth_Ratios_PC2                  20125 non-null  float64\n",
      " 14  Per_Share_Ratios_PC1               20125 non-null  float64\n",
      " 15  Per_Share_Ratios_PC2               20125 non-null  float64\n",
      " 16  LABEL                              20125 non-null  int64  \n",
      "dtypes: float64(16), int64(1)\n",
      "memory usage: 2.6 MB\n"
     ]
    }
   ],
   "source": [
    "df.head()\n",
    "df.info()"
   ]
  },
  {
   "cell_type": "code",
   "execution_count": null,
   "metadata": {},
   "outputs": [],
   "source": []
  }
 ],
 "metadata": {
  "kernelspec": {
   "display_name": "mscthesis",
   "language": "python",
   "name": "python3"
  },
  "language_info": {
   "codemirror_mode": {
    "name": "ipython",
    "version": 3
   },
   "file_extension": ".py",
   "mimetype": "text/x-python",
   "name": "python",
   "nbconvert_exporter": "python",
   "pygments_lexer": "ipython3",
   "version": "3.12.2"
  }
 },
 "nbformat": 4,
 "nbformat_minor": 2
}
